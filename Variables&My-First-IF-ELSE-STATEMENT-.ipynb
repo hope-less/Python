{
 "cells": [
  {
   "cell_type": "code",
   "execution_count": null,
   "metadata": {},
   "outputs": [],
   "source": [
    "name = input(\"Please Enter your name here:\\n\")\n",
    "age = int(input(\"and Enter your age here:\\n\"))\n",
    "message = \"Great, in this line you willl read your personal information, your Name's {}, and your Age's {} years old. life's short! make the most\\n of it, and love the people that deserve your love!!\" .format(name.title(), age)\n",
    "print (message)"
   ]
  },
  {
   "cell_type": "code",
   "execution_count": null,
   "metadata": {
    "scrolled": true
   },
   "outputs": [],
   "source": [
    "import datetime\n",
    "名前 = input(\"君の名前は入力してくれ！\\n\")\n",
    "年齢 = int(input(\"君の年齢を入力してくれ！！\\n\"))\n",
    "今 = datetime.datetime.now()\n",
    "年 = (今.year + 100) - 年齢\n",
    "if 年齢 < 40:\n",
    "    print(\"若いですね\")\n",
    "elif 年齢 >= 40:\n",
    "    print (\"まぁ一応まだ若いですよね\")\n",
    "メッセージ = \"君の名前は{}、と君の年齢は{}歳です、百歳になる時は{}年です、お人生に一番好きな物を頑張ってと楽しめして、人生は短いからね、君の愛を価値ある奴に愛を溺らせて\" .format(名前, 年齢, 年)\n",
    "print (メッセージ)"
   ]
  }
 ],
 "metadata": {
  "kernelspec": {
   "display_name": "Python 3",
   "language": "python",
   "name": "python3"
  },
  "language_info": {
   "codemirror_mode": {
    "name": "ipython",
    "version": 3
   },
   "file_extension": ".py",
   "mimetype": "text/x-python",
   "name": "python",
   "nbconvert_exporter": "python",
   "pygments_lexer": "ipython3",
   "version": "3.7.6"
  }
 },
 "nbformat": 4,
 "nbformat_minor": 4
}
