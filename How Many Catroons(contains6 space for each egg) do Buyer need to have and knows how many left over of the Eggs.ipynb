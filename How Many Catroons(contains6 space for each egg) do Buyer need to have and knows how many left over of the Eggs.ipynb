{
 "cells": [
  {
   "cell_type": "code",
   "execution_count": null,
   "metadata": {
    "scrolled": true
   },
   "outputs": [],
   "source": [
    "print(\"1- 日本語/ 2- English\\n\")\n",
    "lang = input(\"君の望む言語が入力して下さい/Enter the Language you desire:\\n\")\n",
    "jp = (\"日本語\")\n",
    "eng = (\"English\")\n",
    "englowercase = (\"english\") \n",
    "jpnum = (\"1\")\n",
    "engnum = (\"2\")\n",
    "if lang == jp or lang == jpnum:\n",
    "    print(\"ようこそ日本語のラインに\")\n",
    "    six = list(range(0, 1000, 6))\n",
    "    try:\n",
    "        num = int(input(\"君の卵数を入力してください:\\n\"))\n",
    "        div = int(num/6)\n",
    "        firstNumbers = [1, 2, 3, 4, 5, 6]\n",
    "        if num <= 0:\n",
    "            print(\"ふざけんな！ そもそも最初から君は卵持っていないならどうしてここにいるわけ？？ 全部卵の話だよ！！たまご！卵無いなら＝くたばれ！！！\")\n",
    "        if num in firstNumbers:\n",
    "            b = \"必要のは一つ卵パックだけですよ以上は必要ない。当然なの卵は残っていないである\"\n",
    "            print(b)\n",
    "        if num in six and num > 6:\n",
    "            x = \"必要のは{}卵パックだけです、 となの卵は残っていないである\\n\" .format(div)\n",
    "            print(x)\n",
    "        if num not in six and 6 < num:\n",
    "            modulo = int(num%6)\n",
    "            y = \"必要のは{}卵パックです、残ったのは{}卵だけである\\n\" .format(div, modulo)\n",
    "            print(y)\n",
    "    except ValueError:\n",
    "            print(\"打っ殺すぞ、数だけ書けって書いたですね\")\n",
    "elif lang == eng or lang == englowercase or lang == engnum:\n",
    "    print(\"Welcome to English line\")\n",
    "#I wrote this code all by myself without looking at the solutions I haven't even yet looked at any of them though! except looking for the ValueError function it took most of my day!! I even finished it once and lost it! fuck online debuggers! clicked at key ctrl+r while thinking abstactly that r for run and fucking refreshed the page with taking my code with it to their trash!!\n",
    "    six = list(range(0, 1000, 6))\n",
    "#u should include int in try: function things so it can handle the value error when that user enters shit like cheeseburger instead of integer\n",
    "    try:\n",
    "#I wrote the functions that I'll probably need to use later, in python the order of functions is important, I need to define the variables before using them\n",
    "        num = int(input(\"Enter the number of eggs you bought:\\n\"))\n",
    "#^ this allows the user to input so we can take the value the user inputted and make it automatically value for the variable num, and so now we'll be using num is the number the user inputted\n",
    "#v and this below is the division of the number of eggs that do user have and the 6 spaces in the egg cartoon so to know how many catroons the user need to have to store their eggs\n",
    "        div = int(num/6)\n",
    "#in there, firstNumbers I wrote it so when the user inputs one of numbers in the range of 1,6 -the list below- will show the variable b, because duh if the user have six eggs or one, those eggs'll surely have space in the cartoon of eggs and maybe even will remain extra space in case the input wasnt 6! like it was 5 or 2 or anything in the list except 6\n",
    "        firstNumbers = [1, 2, 3, 4, 5, 6]\n",
    "#in case the user inputted that they don't have eggs, of even worse the inputted negative numbers, then will show the following message\n",
    "        if num <= 0:\n",
    "            print(\"Stop fooling around! if you don't even have eggs what in the first place are you doing here! IT'S ALL ABOUT EGGS!!NO EGGS=くたばれ！！！\")\n",
    "        if num in firstNumbers:\n",
    "            b = \"You don't need more than one cartoon, and surely there's no left over eggs\"\n",
    "            print(b)\n",
    "        if num in six and num > 6:\n",
    "            x = \"You need to have {} cartoons, and there's no left over eggs\\n\" .format(div)\n",
    "            print(x)\n",
    "#to calc left over eggs\n",
    "        if num not in six and 6 < num:\n",
    "            modulo = int(num%6)\n",
    "            y = \"You need to have {} cartoons and {} eggs left over\\n\" .format(div, modulo)\n",
    "            print(y)\n",
    "    except ValueError:\n",
    "        print(\"Enter number and not such a thing like a sign or letters 糞野郎\")"
   ]
  }
 ],
 "metadata": {
  "kernelspec": {
   "display_name": "Python 3",
   "language": "python",
   "name": "python3"
  },
  "language_info": {
   "codemirror_mode": {
    "name": "ipython",
    "version": 3
   },
   "file_extension": ".py",
   "mimetype": "text/x-python",
   "name": "python",
   "nbconvert_exporter": "python",
   "pygments_lexer": "ipython3",
   "version": "3.7.6"
  }
 },
 "nbformat": 4,
 "nbformat_minor": 4
}
